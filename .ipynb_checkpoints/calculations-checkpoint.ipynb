{
 "cells": [
  {
   "cell_type": "code",
   "execution_count": 5,
   "metadata": {},
   "outputs": [],
   "source": [
    "using Markdown\n",
    "using InteractiveUtils"
   ]
  },
  {
   "cell_type": "code",
   "execution_count": 6,
   "metadata": {},
   "outputs": [],
   "source": [
    "using Unitful \t\t# This lets us use units in calculations"
   ]
  },
  {
   "cell_type": "code",
   "execution_count": 7,
   "metadata": {},
   "outputs": [
    {
     "ename": "LoadError",
     "evalue": "ArgumentError: Package Interpolations not found in current path:\n- Run `import Pkg; Pkg.add(\"Interpolations\")` to install the Interpolations package.\n",
     "output_type": "error",
     "traceback": [
      "ArgumentError: Package Interpolations not found in current path:\n- Run `import Pkg; Pkg.add(\"Interpolations\")` to install the Interpolations package.\n",
      "",
      "Stacktrace:",
      " [1] require(into::Module, mod::Symbol)",
      "   @ Base ./loading.jl:967",
      " [2] top-level scope",
      "   @ In[7]:3",
      " [3] eval",
      "   @ ./boot.jl:373 [inlined]",
      " [4] include_string(mapexpr::typeof(REPL.softscope), mod::Module, code::String, filename::String)",
      "   @ Base ./loading.jl:1196"
     ]
    }
   ],
   "source": [
    "# Creating an interpolation function for the heat capacity of water\n",
    "begin\n",
    "using Interpolations\n",
    "# Temps from 0 to 100C converted to K\n",
    "temps = (convert(Array, 0:10:100) .+273.15)u\"K\"\n",
    "\n",
    "# Cp in J/(g K) from CRC handbook\n",
    "caps = [4.2176, 4.1921, 4.1818, 4.1784, 4.1785, 4.1806, 4.1843, 4.1895, 4.1963, 4.2050, 4.2159]u\"J * g^-1 * K^-1\"\n",
    "\n",
    "# Create a linear interpolation function from the data above\n",
    "Cpc_l = linear_interpolation(temps, caps)\n",
    "\n",
    "# Note that you must input the temp as Kelvin; Here is an example using this function\n",
    "Cpc_l((55+273.15)u\"K\")\n",
    "end;"
   ]
  },
  {
   "cell_type": "code",
   "execution_count": null,
   "metadata": {},
   "outputs": [
    {
     "name": "stderr",
     "output_type": "stream",
     "text": [
      "┌ Info: Precompiling DataFrames [a93c6f00-e57d-5684-b7b6-d8193f3e46c0]\n",
      "└ @ Base loading.jl:1423\n"
     ]
    }
   ],
   "source": [
    "using DataFrames, LaTeXStrings, Latexify, CSV"
   ]
  },
  {
   "cell_type": "code",
   "execution_count": null,
   "metadata": {},
   "outputs": [],
   "source": [
    "md\"\"\"\n",
    "## Establishing some variables\n",
    "\"\"\""
   ]
  },
  {
   "cell_type": "code",
   "execution_count": null,
   "metadata": {},
   "outputs": [],
   "source": [
    "begin\n",
    "# All uncertainties here are rough estimates based on variations in the literature\n",
    "m_feed = (500)u\"kg\"; \t\t\t\t\t\t# Feed mass (arbitrary)\n",
    "X_Hg = upreferred((3575)u\"mg\"/1000u\"g\"); \t# Mass fraction of Hg in feed powder \t\t\t\t\t\t\t\t\t\t\t\t\t(Average from Park 2016)\n",
    "m_Hg = X_Hg * m_feed; \t\t\t\t\t\t\t# Total mass of mercury\n",
    "M_Hg = 200.59u\"g*mol^-1\"; \t\t\t\t\t\t# Molar mass of mercury\n",
    "P_f = 10.0u\"kPa\"; \t\t\t\t\t\t\t\t# Furnace pressure (Lee 2020)\n",
    "R = 8.314u\"J*mol^-1 * K^-1\"; \t \t\t\t\t# Gas constant\n",
    "T_f = (600+273.15)u\"K\"; \t\t\t\t\t\t# Furnace temperature (Lee 2020)\n",
    "V_sys = 5u\"m^3\"; \t\t\t\t\t\t\t\t# Assumed system volume (arbitrary)\n",
    "M_N2 = 28.014u\"g*mol^-1\"; \t\t\t\t\t\t# Molar mass of N₂\n",
    "t_cyc = 390u\"minute\" |> u\"s\" \t\t\t\t\t# Total cycle time from Lee 2020\n",
    "P_atm = 1.0u\"atm\"|>u\"kPa\" \t\t\t\t\t\t# Atmospheric pressure convert to kPa\n",
    "ṁ_Hg = m_Hg / t_cyc \t\t\t\t\t\t\t# Assume constant evaporation\n",
    "\t\n",
    "# Taking molar mass of powder as molar mass of Y₂O₃ (rough estimate based on the fact that Y₂O₃ makes up ~70% of powder mass)\n",
    "M_p = 225.809u\"g*mol^-1\" \n",
    "m_p = m_feed*(1-X_Hg)\t# Mass of the powder without the mercury\n",
    "\n",
    "T0 = 300.0u\"K\" \t\t\t# Temp at which everything enters the system\n",
    "Tout = (10+273.15)u\"K\"; # Assumed condenser output temperature is 10°C (Lee 2020)\n",
    "\n",
    "# Volumetric flow rate will be dictated by our pump choice for the assumed furnace pressure P_f; temporarily using value from Lee 2020 as an assumption\n",
    "V̇_N2 = (2)u\"L*minute^-1\" |> u\"m^3 * s^-1\";\n",
    "\n",
    "end;"
   ]
  },
  {
   "cell_type": "code",
   "execution_count": null,
   "metadata": {},
   "outputs": [],
   "source": [
    "Tout"
   ]
  },
  {
   "cell_type": "code",
   "execution_count": null,
   "metadata": {},
   "outputs": [],
   "source": [
    "V_tot = m_Hg/(M_Hg * P_f) * R * T_f |> u\"m^3\" # Total volume of Hg gas"
   ]
  },
  {
   "cell_type": "code",
   "execution_count": null,
   "metadata": {},
   "outputs": [],
   "source": [
    "# Total mass of nitrogen required to fill the system \n",
    "# (rough estimate since we don't know the total system volume yet)\n",
    "m_n2_sys = (M_N2 * P_f * V_sys)/(R * Tout) |> u\"g\" "
   ]
  },
  {
   "cell_type": "code",
   "execution_count": null,
   "metadata": {},
   "outputs": [],
   "source": [
    "m_Hg |>u\"g\" # Total mass of mercury in grams"
   ]
  },
  {
   "cell_type": "code",
   "execution_count": null,
   "metadata": {},
   "outputs": [],
   "source": [
    "md\"\"\"\n",
    "# Mass Balances\n",
    "\"\"\""
   ]
  },
  {
   "cell_type": "code",
   "execution_count": null,
   "metadata": {},
   "outputs": [],
   "source": [
    "md\"\"\"\n",
    "## Heat capacity stuff\n",
    "\"\"\""
   ]
  },
  {
   "cell_type": "code",
   "execution_count": null,
   "metadata": {},
   "outputs": [],
   "source": [
    "# Heat capacity of liquid mercury as a function of temperature\n",
    "CpHg_l(T) = 30.39u\"J*mol^-1*K^-1\" - 11.47e-3u\"J*mol^-1*K^-2\" * T ;\n",
    "# From Hae-Geon Lee Materials thermodynamics pg. 431"
   ]
  },
  {
   "cell_type": "code",
   "execution_count": null,
   "metadata": {},
   "outputs": [],
   "source": [
    "# Ideal gas heat capacity of mercury\n",
    "CpHg_g = 20786u\"J*kmol^-1*K^-1\""
   ]
  },
  {
   "cell_type": "code",
   "execution_count": null,
   "metadata": {},
   "outputs": [],
   "source": [
    "# Ideal gas heat capacity of nitrogen from CRC (rough approximation)\n",
    "CpN2 = 30u\"J*mol^-1*K^-1\""
   ]
  },
  {
   "cell_type": "code",
   "execution_count": null,
   "metadata": {},
   "outputs": [],
   "source": [
    "# Creating an interpolation function based on data from scientificgroupthermodataeuropesgteThermodynamicPropertiesCompounds2001\n",
    "# This is for Y2O3 but we are using it as an assumption\n",
    "begin\n",
    "capp = [101.85,\t110, 116.9, 119.2, 121.5, 123.8, 124.95, 126.1, 127.25, 128.4, 128.4]u\"J * mol^-1 * K^-1\";\n",
    "tempp = [300, 390, 480, 570, 660, 750, 840, 930, 1020, 1110, 1200]u\"K\";\n",
    "\t\n",
    "Cpp = linear_interpolation(tempp, capp);\n",
    "end;"
   ]
  },
  {
   "cell_type": "code",
   "execution_count": null,
   "metadata": {},
   "outputs": [],
   "source": [
    "md\"\"\"\n",
    "## Furnace\n",
    "\"\"\""
   ]
  },
  {
   "cell_type": "code",
   "execution_count": null,
   "metadata": {},
   "outputs": [],
   "source": [
    "# I am assuming the pump flow rate is calculated at T=Tout as this is what the pump is pulling at inlet.\n",
    "# This is assuming ideal gas (literally just the ideal gas law here)\n",
    "# Should not be using P_f for this, as the pressure at the pump inlet will be lower than in the furnace, so we will change this when we do pressure loss calculations for equipment selection.\n",
    "ṁ_N2 = (M_N2 * P_f * V̇_N2)/(R * Tout) |> u\"g * s^-1\""
   ]
  },
  {
   "cell_type": "code",
   "execution_count": null,
   "metadata": {},
   "outputs": [],
   "source": [
    "# Convert volumetric to mass flow rate for nitrogen, assuming 2L/min\n",
    "begin\n",
    "# Saturation temperature at 10kPa as found by Jessica from factsage\n",
    "# This will need to be changed if we use a different pressure!!!\n",
    "# I would like to create a function for this in the future...\n",
    "Tsat = 521u\"K\"\n",
    "\n",
    "# Assume constant flow rate\n",
    "m_N2 = ṁ_N2 * t_cyc\n",
    "\n",
    "# Mass fraction of nitrogen and mercury in the stream leaving the furnace\n",
    "X_N2 = (ṁ_N2)/(ṁ_Hg+ṁ_N2)\n",
    "X_Hg_F = 1-X_N2\n",
    "end;"
   ]
  },
  {
   "cell_type": "code",
   "execution_count": null,
   "metadata": {},
   "outputs": [],
   "source": [
    "begin\n",
    "using QuadGK # This is a numerical integration package\n",
    "# Using numerical integration over heat capacity of liquid Hg\n",
    "ΔH_Hg_l = quadgk(CpHg_l, T0, Tsat, rtol=1e-8)[1] * m_Hg / M_Hg |> u\"kJ\"\n",
    "end"
   ]
  },
  {
   "cell_type": "code",
   "execution_count": null,
   "metadata": {},
   "outputs": [],
   "source": [
    "# Volumetric flow rate in the furnace is different becuase the temperature changes while the mass and pressure remain constant\n",
    "V̇_N2_F = (ṁ_N2 * R * T_f)/(M_N2 * P_f) |> u\"m^3 * s^-1\""
   ]
  },
  {
   "cell_type": "code",
   "execution_count": null,
   "metadata": {},
   "outputs": [],
   "source": [
    "md\"\"\"\n",
    "### Enthalpy change of mercury\n",
    "\"\"\""
   ]
  },
  {
   "cell_type": "code",
   "execution_count": null,
   "metadata": {},
   "outputs": [],
   "source": [
    "ΔH_Hg_g = CpHg_g * (T_f-Tsat) * m_Hg / M_Hg |> u\"kJ\""
   ]
  },
  {
   "cell_type": "code",
   "execution_count": null,
   "metadata": {},
   "outputs": [],
   "source": [
    "# Heat of vaporization of mercury from CRC handbook\n",
    "# This is at 1atm pressure, so it may not be accurate\n",
    "ΔH_v_Hg = 59.11u\"kJ*mol^-1\" * m_Hg / M_Hg |> u\"kJ\""
   ]
  },
  {
   "cell_type": "code",
   "execution_count": null,
   "metadata": {},
   "outputs": [],
   "source": [
    "ΔH_Hg_F = ΔH_Hg_l + ΔH_Hg_g + ΔH_v_Hg"
   ]
  },
  {
   "cell_type": "code",
   "execution_count": null,
   "metadata": {},
   "outputs": [],
   "source": [
    "md\"\"\"\n",
    "### Enthalpy change of powder\n",
    "\"\"\""
   ]
  },
  {
   "cell_type": "code",
   "execution_count": null,
   "metadata": {},
   "outputs": [],
   "source": [
    "# numerically integrating over the interpolation function created above\n",
    "# Assuming there are no phase changes\n",
    "ΔH_powder = quadgk(Cpp, T0, T_f)[1] * m_p / M_p |> u\"kJ\"\n",
    "# Note that the poweder leaves at the same temperature, so this enthalpy is not relavent to the steady state system"
   ]
  },
  {
   "cell_type": "code",
   "execution_count": null,
   "metadata": {},
   "outputs": [],
   "source": [
    "md\"\"\"\n",
    "### Enthalpy change of nitrogen\n",
    "\"\"\""
   ]
  },
  {
   "cell_type": "code",
   "execution_count": null,
   "metadata": {},
   "outputs": [],
   "source": [
    "ΔH_N2_F = m_N2 * CpN2 * (T_f - Tout) / M_N2 |> u\"kJ\""
   ]
  },
  {
   "cell_type": "code",
   "execution_count": null,
   "metadata": {},
   "outputs": [],
   "source": [
    "md\"\"\"\n",
    "### Enthalpy of the furnace\n",
    "\"\"\""
   ]
  },
  {
   "cell_type": "code",
   "execution_count": null,
   "metadata": {},
   "outputs": [],
   "source": [
    "# Total energy input of the furnace for a single batch\n",
    "ΔH_F = ΔH_powder + ΔH_N2_F + ΔH_Hg_F"
   ]
  },
  {
   "cell_type": "code",
   "execution_count": null,
   "metadata": {},
   "outputs": [],
   "source": [
    "# Power required during continuous portion of the process\n",
    "ΔḢ_F_steady = (ΔH_N2_F + ΔH_Hg_F)/t_cyc |> u\"W\""
   ]
  },
  {
   "cell_type": "code",
   "execution_count": null,
   "metadata": {},
   "outputs": [],
   "source": [
    "md\"\"\"\n",
    "This is an extremely small furnace, even if we account for efficiency losses!\n",
    "\"\"\""
   ]
  },
  {
   "cell_type": "code",
   "execution_count": null,
   "metadata": {},
   "outputs": [],
   "source": [
    "md\"\"\"\n",
    "## Condenser Balance\n",
    "\"\"\""
   ]
  },
  {
   "cell_type": "code",
   "execution_count": null,
   "metadata": {},
   "outputs": [],
   "source": [
    "md\"\"\"\n",
    "Since everything else is known or assumed, this will be a calculation of our coolant (water) mass flow rate for a given temperature\n",
    "\"\"\""
   ]
  },
  {
   "cell_type": "code",
   "execution_count": null,
   "metadata": {},
   "outputs": [],
   "source": [
    "# Assuming the coolant enters the system at 5C\n",
    "Tc_in = (5+273.15)u\"K\""
   ]
  },
  {
   "cell_type": "code",
   "execution_count": null,
   "metadata": {},
   "outputs": [],
   "source": [
    "ΔH_N2_c = CpN2 * m_N2 * (Tout - T_f) / M_N2 |> u\"kJ\" \n",
    "# Input temp is the temp of the furnace T_f"
   ]
  },
  {
   "cell_type": "code",
   "execution_count": null,
   "metadata": {},
   "outputs": [],
   "source": [
    "ΔH_Hg_c = (-ΔH_Hg_g - ΔH_v_Hg + m_Hg * quadgk(CpHg_l, Tsat, Tout)[1]/M_Hg)  |> u\"kJ\" "
   ]
  },
  {
   "cell_type": "code",
   "execution_count": null,
   "metadata": {},
   "outputs": [],
   "source": [
    "Δh_c = quadgk(Cpc_l, Tout, Tc_in)[1]"
   ]
  },
  {
   "cell_type": "code",
   "execution_count": null,
   "metadata": {},
   "outputs": [],
   "source": [
    "# Mass flow rate of coolant required for given parameters\n",
    "m_c = (ΔH_N2_c + ΔH_Hg_c)/Δh_c "
   ]
  },
  {
   "cell_type": "code",
   "execution_count": null,
   "metadata": {},
   "outputs": [],
   "source": [
    "ΔH_c = m_c*quadgk(Cpc_l, Tout, Tc_in)[1]"
   ]
  },
  {
   "cell_type": "code",
   "execution_count": null,
   "metadata": {},
   "outputs": [],
   "source": [
    "ṁ_c = m_c/t_cyc |> u\"g*s^-1\""
   ]
  },
  {
   "cell_type": "code",
   "execution_count": null,
   "metadata": {},
   "outputs": [],
   "source": [
    "# Checking if the condenser energy balance closes\n",
    "ΔH_N2_c + ΔH_Hg_c ≈ ΔH_c"
   ]
  },
  {
   "cell_type": "code",
   "execution_count": null,
   "metadata": {},
   "outputs": [],
   "source": [
    "md\"\"\"\n",
    "Therefore, the mass flow rate of the coolant is $0.34 \\frac{g}{s}$\n",
    "\"\"\""
   ]
  },
  {
   "cell_type": "code",
   "execution_count": null,
   "metadata": {},
   "outputs": [],
   "source": [
    "md\"\"\"\n",
    "Alternatively, we can find the condenser power:\n",
    "\"\"\""
   ]
  },
  {
   "cell_type": "code",
   "execution_count": null,
   "metadata": {},
   "outputs": [],
   "source": [
    "ΔH_chiller = -(ΔH_N2_c + ΔH_Hg_c) |> u\"kJ\" \n",
    "# This is the power  required by the chiller unit before efficiency losses"
   ]
  },
  {
   "cell_type": "code",
   "execution_count": null,
   "metadata": {},
   "outputs": [],
   "source": [
    "md\"\"\"\n",
    " $\\therefore$ power requirements of the condensor are trivial\n",
    "\"\"\""
   ]
  },
  {
   "cell_type": "code",
   "execution_count": null,
   "metadata": {},
   "outputs": [],
   "source": [
    "md\"\"\"\n",
    "## Pump stuff\n",
    "\"\"\""
   ]
  },
  {
   "cell_type": "code",
   "execution_count": null,
   "metadata": {},
   "outputs": [],
   "source": [
    "# Rough estimate of the pressure difference generated by the pump\n",
    "# This will change if we consider pressure losses during equipment selection\n",
    "ΔP_p = P_atm - P_f |> u\"kPa\""
   ]
  },
  {
   "cell_type": "code",
   "execution_count": null,
   "metadata": {},
   "outputs": [],
   "source": [
    "# Work required by pump before accounting for efficiency\n",
    "W_p = V̇_N2 * ΔP_p |> u\"W\""
   ]
  },
  {
   "cell_type": "code",
   "execution_count": null,
   "metadata": {},
   "outputs": [],
   "source": [
    "# Enthalpy change from pump (i.e) ΔH(s₄ --> s₅)\n",
    "ΔH_p = W_p * t_cyc |> u\"kJ\"\n",
    "# This isnt being considered in the enthalpy balance as we assume the valve K-112 reverses this input perfectly"
   ]
  },
  {
   "cell_type": "code",
   "execution_count": null,
   "metadata": {},
   "outputs": [],
   "source": [
    "md\"\"\"\n",
    "## Table creation\n",
    "\"\"\""
   ]
  },
  {
   "cell_type": "code",
   "execution_count": null,
   "metadata": {},
   "outputs": [],
   "source": [
    "md\"\"\"\n",
    "For all streams:\n",
    "- Temperature\n",
    "- Species; Phase\n",
    "- Mass flow rate\n",
    "\"\"\""
   ]
  },
  {
   "cell_type": "code",
   "execution_count": null,
   "metadata": {},
   "outputs": [],
   "source": [
    "enths = DataFrame(\n",
    "\"Name\" =>\n",
    "[L\"\\Delta H_{\\mathrm{Hg,C}}\",\n",
    "L\"\\Delta H_{\\mathrm{N_2, C}}\",\n",
    "L\"\\Delta H_\\mathrm{Hg, F}\",\n",
    "L\"\\Delta H_{\\mathrm{N_2, F}}\",\n",
    "L\"\\Delta H_{\\mathrm{p}}\",\n",
    "L\"\\Delta H_\\mathrm{C}\", \n",
    "L\"\\Delta H_\\mathrm{F}\" ], \n",
    "\"Value (kJ)\" => \n",
    "Measurements.value.(ustrip.(u\"kJ\", [\n",
    "\tΔH_Hg_c,\n",
    "\tΔH_N2_c,\n",
    "\tΔH_Hg_F,\n",
    "\tΔH_N2_F,\n",
    "\tΔH_powder,\n",
    "\tΔH_c,\n",
    "\tΔH_F\n",
    "])),\n",
    "\"Description\" =>\n",
    "[\n",
    "\t\"Mercury in condenser\",\n",
    "\t\"Nitrogen in condenser\",\n",
    "\t\"Mercury in furnace\",\n",
    "\t\"Nitrogen in furnace\",\n",
    "\t\"Powder in furnace (batch)\",\n",
    "\t\"Total condenser change\",\n",
    "\t\"Total furnace change\"\n",
    "]\n",
    ")"
   ]
  },
  {
   "cell_type": "code",
   "execution_count": null,
   "metadata": {},
   "outputs": [],
   "source": [
    "md\"\"\"\n",
    "Mass flow rates for each stream:\n",
    "\"\"\""
   ]
  },
  {
   "cell_type": "code",
   "execution_count": null,
   "metadata": {},
   "outputs": [],
   "source": [
    "begin\n",
    "\tmn2 = ṁ_N2\n",
    "mfrs::Vector{Any} = round.(ustrip.(u\"mg*s^-1\", upreferred.([\n",
    "\t\tm_feed/t_cyc,\n",
    "\t\tṁ_N2,\n",
    "\t\tmn2,\n",
    "\t\tmn2,\n",
    "\t\tṁ_c, \n",
    "\t\tṁ_c,\n",
    "\t\tm_n2_sys/t_cyc,\n",
    "\t\tmn2,\n",
    "\t\tmn2,\n",
    "\t\tmn2,\n",
    "\t\tm_n2_sys/t_cyc,\n",
    "\t\tṁ_Hg,\n",
    "\t\tm_p/t_cyc])), sigdigits = 4)\n",
    "insert!(mfrs, 2, round.(ustrip.(u\"mg*s^-1\",[ṁ_N2, ṁ_Hg]), sigdigits = 4))\n",
    "end"
   ]
  },
  {
   "cell_type": "code",
   "execution_count": null,
   "metadata": {},
   "outputs": [],
   "source": [
    "# Exporting the enthalpy table\n",
    "CSV.write(\"enthalpy.csv\", enths);"
   ]
  },
  {
   "cell_type": "code",
   "execution_count": null,
   "metadata": {},
   "outputs": [],
   "source": [
    "md\"\"\"\n",
    "Putting the calculated variables into a stream summary table:\n",
    "\"\"\""
   ]
  },
  {
   "cell_type": "code",
   "execution_count": null,
   "metadata": {},
   "outputs": [],
   "source": [
    "begin\n",
    "\tn2 = \"N₂\"\n",
    "\th20 = \"H₂O\"\n",
    "\thg = \"Hg\"\n",
    "\tpowder = \"Y₂O₃ (powder)\"\n",
    "\tnd = \", \"\n",
    "\ts = \"solid\"\n",
    "\tl = \"liquid\"\n",
    "\tg = \"gas\"\n",
    "\tmn3 = ṁ_N2\n",
    "stream_table = DataFrame(\n",
    "\t\"ID\" => 1:14,\n",
    "\t\"Species\" => [\n",
    "\t\tpowder*nd*hg, n2*nd*hg, n2, n2, n2, \n",
    "\t\th20, h20, n2, n2, n2, n2, n2, hg, powder],\n",
    "\t\"Phase\" => [\n",
    "\t\ts, g, g, g, g, l, l, g, g, g, g, g, l, s],\n",
    "\t\"Temperature (K)\" => ustrip.([\n",
    "\t\tT0, T_f, Tout, Tout,\n",
    "\t\tTout, Tout, Tc_in, Tout, \n",
    "\t\tTout, Tout,\n",
    "\t\tTout, \t\t\t\t\t#Assuming the pressure valve does not change the temp\n",
    "\t\tT0, Tout, T_f]),\n",
    "\t\"Mass flow rate (mg/s)\" => mfrs,\n",
    "\t\"Pressure (kPa)\" => ustrip.([\n",
    "\t\tP_atm, P_f, P_f, P_f,\n",
    "\t\tP_atm, P_atm, P_atm, P_atm,\n",
    "\t\tP_atm, P_atm, P_f, P_atm,\n",
    "\t\tP_f, P_atm])\n",
    ")\n",
    "end"
   ]
  },
  {
   "cell_type": "code",
   "execution_count": null,
   "metadata": {},
   "outputs": [],
   "source": [
    "# Writing it to a CSV\n",
    "CSV.write(\"stream_table.csv\", stream_table);"
   ]
  },
  {
   "cell_type": "code",
   "execution_count": null,
   "metadata": {},
   "outputs": [],
   "source": []
  }
 ],
 "metadata": {
  "kernelspec": {
   "display_name": "Julia 1.7.3",
   "language": "julia",
   "name": "julia-1.7"
  },
  "language_info": {
   "file_extension": ".jl",
   "mimetype": "application/julia",
   "name": "julia",
   "version": "1.7.3"
  }
 },
 "nbformat": 4,
 "nbformat_minor": 2
}
